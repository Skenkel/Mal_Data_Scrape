{
 "cells": [
  {
   "cell_type": "code",
   "execution_count": 2,
   "metadata": {
    "collapsed": true
   },
   "outputs": [],
   "source": [
    "import requests\n",
    "from bs4 import BeautifulSoup\n",
    "import pandas as pd\n",
    "import time\n",
    "\n",
    "import mal_scraper"
   ]
  },
  {
   "cell_type": "code",
   "execution_count": 161,
   "metadata": {
    "collapsed": true
   },
   "outputs": [],
   "source": [
    "reclist = []"
   ]
  },
  {
   "cell_type": "code",
   "execution_count": 160,
   "metadata": {
    "collapsed": true
   },
   "outputs": [],
   "source": [
    "def scraperec(url, anime_id):   \n",
    "    httptoken = url\n",
    "    time.sleep(1)\n",
    "    response = requests.get(httptoken)\n",
    "    rec_soup = BeautifulSoup(response.content, 'lxml')\n",
    "    recs= rec_soup.find_all('table')[2:]\n",
    "    recommendanimeid =rec.find_all('div')[1].attrs['id'][7:]\n",
    "    recommendtexts = rec.find_all('div',{'class':\"spaceit_pad detail-user-recs-text\"})\n",
    "    for subreview in range(len(recommendtexts)):\n",
    "        recdict= {'anime_id':anime_id,'rec_anime_id':recommendanimeid}\n",
    "        recdict['text'] = recommendtexts[subreview].text.replace('\\n','').replace('\\r','')\n",
    "        if subreview == 0:\n",
    "            recdict['user']= rec.find_all('a')[6].text\n",
    "            recdict['unkey']= str(anime_id)+rec.find_all('a')[6].text+ str(recommendanimeid)\n",
    "        elif subreview ==1:\n",
    "            recdict['user']= rec.find_all('a')[9].text\n",
    "            recdict['unkey']= str(anime_id)+rec.find_all('a')[9].text+ str(recommendanimeid)\n",
    "        else:\n",
    "            recdict['user']= rec.find_all('a')[9+((subreview-1)*2)].text\n",
    "            recdict['unkey']= str(anime_id)+rec.find_all('a')[9+((subreview-1)*2)].text+ str(recommendanimeid)\n",
    "        reclist.append(recdict)\n",
    "        \n",
    "         "
   ]
  },
  {
   "cell_type": "code",
   "execution_count": 156,
   "metadata": {
    "collapsed": true
   },
   "outputs": [],
   "source": [
    "url = 'https://myanimelist.net/anime/9253/Steins_Gate/userrecs'"
   ]
  },
  {
   "cell_type": "code",
   "execution_count": 162,
   "metadata": {},
   "outputs": [],
   "source": [
    "scraperec(url,'9253')"
   ]
  },
  {
   "cell_type": "code",
   "execution_count": 163,
   "metadata": {
    "collapsed": true
   },
   "outputs": [],
   "source": [
    "recdf= pd.DataFrame(reclist)"
   ]
  },
  {
   "cell_type": "code",
   "execution_count": 164,
   "metadata": {},
   "outputs": [
    {
     "data": {
      "text/html": [
       "<div>\n",
       "<style>\n",
       "    .dataframe thead tr:only-child th {\n",
       "        text-align: right;\n",
       "    }\n",
       "\n",
       "    .dataframe thead th {\n",
       "        text-align: left;\n",
       "    }\n",
       "\n",
       "    .dataframe tbody tr th {\n",
       "        vertical-align: top;\n",
       "    }\n",
       "</style>\n",
       "<table border=\"1\" class=\"dataframe\">\n",
       "  <thead>\n",
       "    <tr style=\"text-align: right;\">\n",
       "      <th></th>\n",
       "      <th>anime_id</th>\n",
       "      <th>rec_anime_id</th>\n",
       "      <th>text</th>\n",
       "      <th>unkey</th>\n",
       "      <th>user</th>\n",
       "    </tr>\n",
       "  </thead>\n",
       "  <tbody>\n",
       "    <tr>\n",
       "      <th>0</th>\n",
       "      <td>9253</td>\n",
       "      <td>31240</td>\n",
       "      <td>Beginning with the obvious, both Re:Zero and S...</td>\n",
       "      <td>9253Kyouma-D-Luffy31240</td>\n",
       "      <td>Kyouma-D-Luffy</td>\n",
       "    </tr>\n",
       "    <tr>\n",
       "      <th>1</th>\n",
       "      <td>9253</td>\n",
       "      <td>31240</td>\n",
       "      <td>Butterfly effect</td>\n",
       "      <td>9253Vaju31240</td>\n",
       "      <td>Vaju</td>\n",
       "    </tr>\n",
       "    <tr>\n",
       "      <th>2</th>\n",
       "      <td>9253</td>\n",
       "      <td>31240</td>\n",
       "      <td>Time traveling is always a popular theme for a...</td>\n",
       "      <td>9253sasalx31240</td>\n",
       "      <td>sasalx</td>\n",
       "    </tr>\n",
       "    <tr>\n",
       "      <th>3</th>\n",
       "      <td>9253</td>\n",
       "      <td>31240</td>\n",
       "      <td>Both anime revolve mostly around an ordinary g...</td>\n",
       "      <td>9253HyoReiSan31240</td>\n",
       "      <td>HyoReiSan</td>\n",
       "    </tr>\n",
       "    <tr>\n",
       "      <th>4</th>\n",
       "      <td>9253</td>\n",
       "      <td>31240</td>\n",
       "      <td>Essentially similar concept. Re:Zero is basica...</td>\n",
       "      <td>9253DarthBob31240</td>\n",
       "      <td>DarthBob</td>\n",
       "    </tr>\n",
       "  </tbody>\n",
       "</table>\n",
       "</div>"
      ],
      "text/plain": [
       "  anime_id rec_anime_id                                               text  \\\n",
       "0     9253        31240  Beginning with the obvious, both Re:Zero and S...   \n",
       "1     9253        31240                                  Butterfly effect    \n",
       "2     9253        31240  Time traveling is always a popular theme for a...   \n",
       "3     9253        31240  Both anime revolve mostly around an ordinary g...   \n",
       "4     9253        31240  Essentially similar concept. Re:Zero is basica...   \n",
       "\n",
       "                     unkey            user  \n",
       "0  9253Kyouma-D-Luffy31240  Kyouma-D-Luffy  \n",
       "1            9253Vaju31240            Vaju  \n",
       "2          9253sasalx31240          sasalx  \n",
       "3       9253HyoReiSan31240       HyoReiSan  \n",
       "4        9253DarthBob31240        DarthBob  "
      ]
     },
     "execution_count": 164,
     "metadata": {},
     "output_type": "execute_result"
    }
   ],
   "source": [
    "recdf.head()"
   ]
  },
  {
   "cell_type": "code",
   "execution_count": 153,
   "metadata": {},
   "outputs": [
    {
     "data": {
      "text/plain": [
       "{'anime_id': '9253',\n",
       " 'rec_anime_id': '31240',\n",
       " 'text': 'About Time Travel\\r\\nBoth keep \"Reseting\" to make things right\\r\\nMc is only one retains knowledge of time travel \\r\\nLots of death \\r\\nEmotional \\r\\n\\xa0',\n",
       " 'user': 'report'}"
      ]
     },
     "execution_count": 153,
     "metadata": {},
     "output_type": "execute_result"
    }
   ],
   "source": [
    "reclist[-1]"
   ]
  },
  {
   "cell_type": "code",
   "execution_count": 57,
   "metadata": {
    "collapsed": true
   },
   "outputs": [],
   "source": [
    "httptoken = url"
   ]
  },
  {
   "cell_type": "code",
   "execution_count": 58,
   "metadata": {
    "collapsed": true
   },
   "outputs": [],
   "source": [
    "response = requests.get(httptoken)\n",
    "rec_soup = BeautifulSoup(response.content, 'lxml')"
   ]
  },
  {
   "cell_type": "code",
   "execution_count": 59,
   "metadata": {},
   "outputs": [],
   "source": [
    "recs= rec_soup.find_all('table')[2:]"
   ]
  },
  {
   "cell_type": "code",
   "execution_count": 60,
   "metadata": {},
   "outputs": [],
   "source": [
    "rec =recs[1]"
   ]
  },
  {
   "cell_type": "code",
   "execution_count": 61,
   "metadata": {},
   "outputs": [],
   "source": [
    "recommendanimeid =rec.find_all('div')[1].attrs['id'][7:]"
   ]
  },
  {
   "cell_type": "code",
   "execution_count": 70,
   "metadata": {},
   "outputs": [],
   "source": [
    "recommendtexts = rec.find_all('div',{'class':\"spaceit_pad detail-user-recs-text\"})\n",
    "\n"
   ]
  },
  {
   "cell_type": "code",
   "execution_count": 74,
   "metadata": {},
   "outputs": [],
   "source": [
    "recommendtext = recommendtexts[0].text"
   ]
  },
  {
   "cell_type": "code",
   "execution_count": 63,
   "metadata": {},
   "outputs": [],
   "source": [
    "reccomenduser = rec.find_all('a')[6].text"
   ]
  },
  {
   "cell_type": "code",
   "execution_count": 76,
   "metadata": {},
   "outputs": [
    {
     "data": {
      "text/plain": [
       "\"Beginning with the obvious, both Re:Zero and Steins;Gate were animated by the same studio, White Fox and both main protagonists have time traveling related abilities.\\n\\r\\nNow for the juicy stuff, both Okabe and Subaru are quite different from the usual anime protagonist and aren't meant to be self-inserts for viewers. They both must overcome obstacles to save the ones they love and both feature thrilling story lines and engaging characters that break the mold of most anime tropes like Tsunderes (with Steins;Gate's Kurisu) and Moé characters (Re:Zero's Rem). The authors want you to see the MCs go through very difficult (and sometimes gory) hardships in order to reach their goals. In a nutshell both are:\\n\\r\\n- Animated by White Fox\\r\\n- Time Traveling Related\\r\\n- Have fresh Non-Self Insert Protagonists\\r\\n- Mold Breakers of Anime Tropes\\n\\r\\nand both anime titles have a thing for colons and semi-colons. &nbspread more\\xa0\""
      ]
     },
     "execution_count": 76,
     "metadata": {},
     "output_type": "execute_result"
    }
   ],
   "source": [
    "recommendtext"
   ]
  },
  {
   "cell_type": "code",
   "execution_count": 82,
   "metadata": {},
   "outputs": [
    {
     "data": {
      "text/plain": [
       "<a href=\"/profile/Kyouma-D-Luffy\">Kyouma-D-Luffy</a>"
      ]
     },
     "execution_count": 82,
     "metadata": {},
     "output_type": "execute_result"
    }
   ],
   "source": [
    "rec.find_all('a')[6]"
   ]
  },
  {
   "cell_type": "code",
   "execution_count": 120,
   "metadata": {
    "collapsed": true
   },
   "outputs": [],
   "source": [
    "recommendtext2 = recommendtexts[1].text"
   ]
  },
  {
   "cell_type": "code",
   "execution_count": 119,
   "metadata": {
    "collapsed": true
   },
   "outputs": [],
   "source": [
    "reccomenduser2 = rec.find_all('a')[9].text"
   ]
  },
  {
   "cell_type": "code",
   "execution_count": 121,
   "metadata": {},
   "outputs": [
    {
     "name": "stdout",
     "output_type": "stream",
     "text": [
      "Vaju\n",
      "Butterfly effect \n"
     ]
    }
   ],
   "source": [
    "print(reccomenduser2)\n",
    "print(recommendtext2)"
   ]
  },
  {
   "cell_type": "code",
   "execution_count": 123,
   "metadata": {},
   "outputs": [
    {
     "data": {
      "text/plain": [
       "143"
      ]
     },
     "execution_count": 123,
     "metadata": {},
     "output_type": "execute_result"
    }
   ],
   "source": [
    "len(rec.find_all('a'))"
   ]
  },
  {
   "cell_type": "code",
   "execution_count": 125,
   "metadata": {},
   "outputs": [
    {
     "data": {
      "text/plain": [
       "65"
      ]
     },
     "execution_count": 125,
     "metadata": {},
     "output_type": "execute_result"
    }
   ],
   "source": [
    "len(recommendtexts)"
   ]
  },
  {
   "cell_type": "code",
   "execution_count": 126,
   "metadata": {},
   "outputs": [
    {
     "data": {
      "text/plain": [
       "<div class=\"spaceit_pad detail-user-recs-text\">About Time Travel<br/>\n",
       "Both keep \"Reseting\" to make things right<br/>\n",
       "Mc is only one retains knowledge of time travel <br/>\n",
       "Lots of death <br/>\n",
       "Emotional <br/>\n",
       " </div>"
      ]
     },
     "execution_count": 126,
     "metadata": {},
     "output_type": "execute_result"
    }
   ],
   "source": [
    "recommendtexts[64]"
   ]
  },
  {
   "cell_type": "code",
   "execution_count": 145,
   "metadata": {},
   "outputs": [
    {
     "ename": "NameError",
     "evalue": "name 'recdict' is not defined",
     "output_type": "error",
     "traceback": [
      "\u001b[0;31m---------------------------------------------------------------------------\u001b[0m",
      "\u001b[0;31mNameError\u001b[0m                                 Traceback (most recent call last)",
      "\u001b[0;32m<ipython-input-145-93852622d618>\u001b[0m in \u001b[0;36m<module>\u001b[0;34m()\u001b[0m\n\u001b[1;32m      1\u001b[0m \u001b[0;32mfor\u001b[0m \u001b[0msubreview\u001b[0m \u001b[0;32min\u001b[0m \u001b[0mrange\u001b[0m\u001b[0;34m(\u001b[0m\u001b[0mlen\u001b[0m\u001b[0;34m(\u001b[0m\u001b[0mrecommendtexts\u001b[0m\u001b[0;34m)\u001b[0m\u001b[0;34m)\u001b[0m\u001b[0;34m:\u001b[0m\u001b[0;34m\u001b[0m\u001b[0m\n\u001b[0;32m----> 2\u001b[0;31m     \u001b[0mrecdict\u001b[0m\u001b[0;34m[\u001b[0m\u001b[0;34m'text'\u001b[0m\u001b[0;34m]\u001b[0m \u001b[0;34m=\u001b[0m \u001b[0mrecommendtexts\u001b[0m\u001b[0;34m[\u001b[0m\u001b[0msubreview\u001b[0m\u001b[0;34m]\u001b[0m\u001b[0;34m.\u001b[0m\u001b[0mtext\u001b[0m\u001b[0;34m\u001b[0m\u001b[0m\n\u001b[0m\u001b[1;32m      3\u001b[0m     \u001b[0;32mif\u001b[0m \u001b[0msubreview\u001b[0m \u001b[0;34m==\u001b[0m \u001b[0;36m0\u001b[0m\u001b[0;34m:\u001b[0m\u001b[0;34m\u001b[0m\u001b[0m\n\u001b[1;32m      4\u001b[0m         \u001b[0mrecdict\u001b[0m\u001b[0;34m[\u001b[0m\u001b[0;34m'user'\u001b[0m\u001b[0;34m]\u001b[0m\u001b[0;34m=\u001b[0m \u001b[0mrec\u001b[0m\u001b[0;34m.\u001b[0m\u001b[0mfind_all\u001b[0m\u001b[0;34m(\u001b[0m\u001b[0;34m'a'\u001b[0m\u001b[0;34m)\u001b[0m\u001b[0;34m[\u001b[0m\u001b[0;36m6\u001b[0m\u001b[0;34m]\u001b[0m\u001b[0;34m.\u001b[0m\u001b[0mtext\u001b[0m\u001b[0;34m\u001b[0m\u001b[0m\n\u001b[1;32m      5\u001b[0m     \u001b[0;32melif\u001b[0m \u001b[0msubreview\u001b[0m \u001b[0;34m==\u001b[0m\u001b[0;36m1\u001b[0m\u001b[0;34m:\u001b[0m\u001b[0;34m\u001b[0m\u001b[0m\n",
      "\u001b[0;31mNameError\u001b[0m: name 'recdict' is not defined"
     ]
    }
   ],
   "source": [
    "for subreview in range(len(recommendtexts)):\n",
    "    recdict['text'] = recommendtexts[subreview].text\n",
    "    if subreview == 0:\n",
    "        recdict['user']= rec.find_all('a')[6].text\n",
    "    elif subreview ==1:\n",
    "        recdict['user']= rec.find_all('a')[9].text\n",
    "    else:\n",
    "        recdict['user']= rec.find_all('a')[9+((subreview-1)*2)].text"
   ]
  },
  {
   "cell_type": "code",
   "execution_count": 117,
   "metadata": {},
   "outputs": [],
   "source": [
    "reccomenduser3 = rec.find_all('a')[11].text\n",
    "recommendtext3 = recommendtexts[2].text"
   ]
  },
  {
   "cell_type": "code",
   "execution_count": 118,
   "metadata": {},
   "outputs": [
    {
     "name": "stdout",
     "output_type": "stream",
     "text": [
      "sasalx\n",
      "Time traveling is always a popular theme for anime.But it is risky because it can cause a lot of plot holes.Then again those two anime don't have a problem about that at all.Both mc have similar goal and reason for using time travel again and again.Steins;Gate hasn't got any real fight scenes but it has much philosophical approach about time travel.Both are done by the same studio so animation style is similar too. \n"
     ]
    }
   ],
   "source": [
    "print(reccomenduser3)\n",
    "print(recommendtext3)"
   ]
  },
  {
   "cell_type": "code",
   "execution_count": 142,
   "metadata": {},
   "outputs": [
    {
     "data": {
      "text/plain": [
       "(6, 9, 11, 13)"
      ]
     },
     "execution_count": 142,
     "metadata": {},
     "output_type": "execute_result"
    }
   ],
   "source": [
    "reccomenduser4 = rec.find_all('a')[15].text\n",
    "recommendtext4 = recommendtexts[1].text\n",
    "6, 9, 11, 13, 15, 7"
   ]
  },
  {
   "cell_type": "code",
   "execution_count": 143,
   "metadata": {},
   "outputs": [
    {
     "name": "stdout",
     "output_type": "stream",
     "text": [
      "Nhoc-chan\n",
      "Butterfly effect \n"
     ]
    }
   ],
   "source": [
    "print(reccomenduser4)\n",
    "print(recommendtext4)"
   ]
  }
 ],
 "metadata": {
  "kernelspec": {
   "display_name": "Python 3",
   "language": "python",
   "name": "python3"
  },
  "language_info": {
   "codemirror_mode": {
    "name": "ipython",
    "version": 3
   },
   "file_extension": ".py",
   "mimetype": "text/x-python",
   "name": "python",
   "nbconvert_exporter": "python",
   "pygments_lexer": "ipython3",
   "version": "3.6.1"
  }
 },
 "nbformat": 4,
 "nbformat_minor": 2
}
