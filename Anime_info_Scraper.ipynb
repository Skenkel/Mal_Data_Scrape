{
 "cells": [
  {
   "cell_type": "code",
   "execution_count": 127,
   "metadata": {
    "collapsed": true
   },
   "outputs": [],
   "source": [
    "import requests\n",
    "from bs4 import BeautifulSoup\n",
    "import pandas as pd\n",
    "import time\n",
    "import numpy as np\n",
    "import mal_scraper"
   ]
  },
  {
   "cell_type": "code",
   "execution_count": 6,
   "metadata": {
    "collapsed": true
   },
   "outputs": [],
   "source": [
    "testval = 9253"
   ]
  },
  {
   "cell_type": "code",
   "execution_count": 7,
   "metadata": {
    "collapsed": true
   },
   "outputs": [],
   "source": [
    "anime_num = testval"
   ]
  },
  {
   "cell_type": "code",
   "execution_count": 5,
   "metadata": {},
   "outputs": [
    {
     "data": {
      "text/plain": [
       "Retrieved(meta={'when': datetime.datetime(2017, 7, 21, 15, 9, 51, 568241), 'id_ref': 9253, 'response': <Response [200]>}, data={'name': 'Steins;Gate', 'name_english': 'Steins;Gate', 'format': <Format.tv: 'TV'>, 'episodes': 24, 'airing_status': <AiringStatus.finished: 'FINISHED'>, 'airing_started': datetime.date(2011, 4, 6), 'airing_finished': datetime.date(2011, 9, 14), 'airing_premiere': (2011, <Season.spring: 'SPRING'>)})"
      ]
     },
     "execution_count": 5,
     "metadata": {},
     "output_type": "execute_result"
    }
   ],
   "source": [
    "mal_scraper.get_anime(id_ref=testval)"
   ]
  },
  {
   "cell_type": "code",
   "execution_count": 346,
   "metadata": {
    "collapsed": true
   },
   "outputs": [],
   "source": [
    "animes_to_scrape = []\n",
    "anime_list = []"
   ]
  },
  {
   "cell_type": "code",
   "execution_count": 337,
   "metadata": {
    "collapsed": true
   },
   "outputs": [],
   "source": [
    "def anime_scrape(anime_num):\n",
    "    animedict ={'animeid': anime_num}\n",
    "    anime_scrape_dict = {'animeid': anime_num}\n",
    "    pulladdress = 'https://myanimelist.net/anime/'+str(anime_num)\n",
    "    anime_response = requests.get(pulladdress)\n",
    "    if anime_response.ok is False:\n",
    "        return None\n",
    "    anime_soup = BeautifulSoup(anime_response.content, 'lxml')\n",
    "    animedict['name'] = anime_soup.find('span',{'itemprop':'name'}).text\n",
    "    #print(animedict['name'])\n",
    "    anime_scrape_dict['review_addr']= anime_soup.find('div',{'id':'horiznav_nav'}).find_all('a')[3]['href']\n",
    "    anime_scrape_dict['rec_addr']= anime_soup.find('div',{'id':'horiznav_nav'}).find_all('a')[4]['href']\n",
    "    try:\n",
    "        animedict['desc'] = anime_soup.find('span',{'itemprop':'description'}).text\n",
    "        animedict['length']=anime_soup.find_all('div',{'class':'spaceit'})[0].text\n",
    "        animedict['aired']=anime_soup.find_all('div',{'class':'spaceit'})[1].text\n",
    "    except:\n",
    "        pass\n",
    "    for dark_tag in range(len(anime_soup.find_all('span',{'class':'dark_text'}))):\n",
    "        if anime_soup.find_all('span',{'class':'dark_text'})[dark_tag].text.find('Genre')!=-1:\n",
    "            genres=anime_soup.find_all('span',{'class':'dark_text'})[dark_tag].fetchNextSiblings()\n",
    "\n",
    "            for num in range(len(genres)):\n",
    "                genrename= 'genre'+str(num)\n",
    "                animedict[genrename]= genres[num].text\n",
    "    \n",
    "    for tag in range(len(anime_soup.find_all('div',{'class':'spaceit'}))):\n",
    "        if anime_soup.find_all('div',{'class':'spaceit'})[tag].text.find('Members')!=-1:\n",
    "            #print(anime_soup.find_all('div',{'class':'spaceit'})[tag].text)\n",
    "            animedict['member_reviews']= anime_soup.find_all('div',{'class':'spaceit'})[tag].text\n",
    "        elif anime_soup.find_all('div',{'class':'spaceit'})[tag].text.find('Source:')!=-1:\n",
    "            #print(anime_soup.find_all('div',{'class':'spaceit'})[tag].text)\n",
    "            animedict['source']=anime_soup.find_all('div',{'class':'spaceit'})[tag].text\n",
    "    animes_to_scrape.append(anime_scrape_dict)\n",
    "    anime_list.append(animedict)\n"
   ]
  },
  {
   "cell_type": "code",
   "execution_count": 347,
   "metadata": {},
   "outputs": [
    {
     "name": "stdout",
     "output_type": "stream",
     "text": [
      "20933\n",
      "29614\n",
      "31705\n",
      "18723\n",
      "Soul Reviver\n",
      "\n",
      "Source:\n",
      "  Unknown\n",
      "  \n",
      "\n",
      "Members:\n",
      "    380\n",
      "\n",
      "26961\n",
      "3999\n",
      "Dorei Maid Princess\n",
      "\n",
      "Source:\n",
      "  Visual novel\n",
      "  \n",
      "\n",
      "Members:\n",
      "    3,318\n",
      "\n",
      "19850\n",
      "12966\n",
      "4063\n",
      "Sekirei\n",
      "\n",
      "Source:\n",
      "  Manga\n",
      "  \n",
      "\n",
      "Members:\n",
      "    206,760\n",
      "\n",
      "9395\n",
      "Miyanishi Tatsuya Gekijou: Omae Umasou da na\n",
      "\n",
      "Source:\n",
      "  Picture book\n",
      "  \n",
      "\n",
      "Members:\n",
      "    890\n",
      "\n",
      "25800\n",
      "20638\n",
      "33226\n",
      "Kotowaza Gundam-san\n",
      "\n",
      "Source:\n",
      "  Manga\n",
      "  \n",
      "\n",
      "Members:\n",
      "    323\n",
      "\n",
      "33156\n",
      "Code Geass: Hangyaku no Lelouch R2 Picture Drama Last Moratorium\n",
      "\n",
      "Source:\n",
      "  Original\n",
      "  \n",
      "\n",
      "Members:\n",
      "    0\n",
      "\n",
      "21615\n",
      "1689\n",
      "Byousoku 5 Centimeter\n",
      "\n",
      "Source:\n",
      "  Original\n",
      "  \n",
      "\n",
      "Members:\n",
      "    382,883\n",
      "\n",
      "19194\n",
      "31215\n",
      "28857\n",
      "27418\n",
      "14620\n",
      "19409\n",
      "17147\n",
      "Gakkatsu! 2nd Season\n",
      "\n",
      "Source:\n",
      "  Unknown\n",
      "  \n",
      "\n",
      "Members:\n",
      "    1,277\n",
      "\n",
      "32949\n",
      "Kuzu no Honkai\n",
      "\n",
      "Source:\n",
      "  Manga\n",
      "  \n",
      "\n",
      "Members:\n",
      "    181,519\n",
      "\n",
      "28487\n",
      "Ikite Iru\n",
      "\n",
      "Source:\n",
      "  Unknown\n",
      "  \n",
      "\n",
      "Members:\n",
      "    52\n",
      "\n",
      "25018\n",
      "31623\n",
      "23011\n",
      "9842\n",
      "32295\n",
      "Ai Sky Tree 21\n",
      "\n",
      "Source:\n",
      "  Original\n",
      "  \n",
      "\n",
      "Members:\n",
      "    207\n",
      "\n",
      "30593\n",
      "31086\n",
      "17300\n",
      "16951\n",
      "34565\n",
      "Jikan no Shihaisha\n",
      "\n",
      "Source:\n",
      "  Manga\n",
      "  \n",
      "\n",
      "Members:\n",
      "    26,709\n",
      "\n",
      "24326\n",
      "17906\n",
      "25115\n",
      "2273\n",
      "23090\n",
      "2062\n",
      "14333\n",
      "Tanken Driland\n",
      "\n",
      "Source:\n",
      "  Unknown\n",
      "  \n",
      "\n",
      "Members:\n",
      "    4,255\n",
      "\n",
      "933\n",
      "Dai Mahou Touge\n",
      "\n",
      "Source:\n",
      "  Manga\n",
      "  \n",
      "\n",
      "Members:\n",
      "    21,481\n",
      "\n",
      "30241\n",
      "Umo\n",
      "\n",
      "Source:\n",
      "  Unknown\n",
      "  \n",
      "\n",
      "Members:\n",
      "    130\n",
      "\n",
      "20778\n",
      "5735\n",
      "95\n",
      "Turn A Gundam\n",
      "\n",
      "Source:\n",
      "  Original\n",
      "  \n",
      "\n",
      "Members:\n",
      "    22,297\n",
      "\n",
      "26076\n",
      "6263\n",
      "30080\n",
      "27059\n",
      "12832\n",
      "2327\n",
      "Kyouhaku: Owaranai Ashita\n",
      "\n",
      "Source:\n",
      "  Visual novel\n",
      "  \n",
      "\n",
      "Members:\n",
      "    1,933\n",
      "\n",
      "12466\n",
      "9174\n",
      "8956\n",
      "Denkou Chou Tokkyuu Hikarian\n",
      "\n",
      "Source:\n",
      "  Unknown\n",
      "  \n",
      "\n",
      "Members:\n",
      "    272\n",
      "\n",
      "17082\n",
      "Aiura\n",
      "\n",
      "Source:\n",
      "  4-koma manga\n",
      "  \n",
      "\n",
      "Members:\n",
      "    48,615\n",
      "\n",
      "34125\n",
      "2083\n",
      "Natsuki Crisis\n",
      "\n",
      "Source:\n",
      "  Manga\n",
      "  \n",
      "\n",
      "Members:\n",
      "    1,346\n",
      "\n",
      "16500\n",
      "28644\n",
      "1121\n",
      "Pokemon Advanced Generation: Nanayo no Negaiboshi Jirachi\n",
      "\n",
      "Source:\n",
      "  Game\n",
      "  \n",
      "\n",
      "Members:\n",
      "    47,164\n",
      "\n",
      "33391\n",
      "Red Ash: Gearworld\n",
      "\n",
      "Source:\n",
      "  Game\n",
      "  \n",
      "\n",
      "Members:\n",
      "    896\n",
      "\n",
      "7042\n",
      "28569\n",
      "Kogitsune no Shouboutai\n",
      "\n",
      "Source:\n",
      "  Unknown\n",
      "  \n",
      "\n",
      "Members:\n",
      "    50\n",
      "\n",
      "28119\n",
      "Kuma no Minakuro to Kouhei Jiisan\n",
      "\n",
      "Source:\n",
      "  Book\n",
      "  \n",
      "\n",
      "Members:\n",
      "    72\n",
      "\n",
      "34877\n",
      "Kaettekita Dr. Slump: Arale-chan Special\n",
      "\n",
      "Source:\n",
      "  Manga\n",
      "  \n",
      "\n",
      "Members:\n",
      "    149\n",
      "\n",
      "1012\n",
      "Sexy Commando Gaiden: Sugoiyo!! Masaru-san Specials\n",
      "\n",
      "Source:\n",
      "  Manga\n",
      "  \n",
      "\n",
      "Members:\n",
      "    1,101\n",
      "\n",
      "28932\n",
      "21867\n",
      "The Disappearance of Conan Edogawa: The Worst Two Days in History\n",
      "\n",
      "Source:\n",
      "  Manga\n",
      "  \n",
      "\n",
      "Members:\n",
      "    4,669\n",
      "\n",
      "15294\n",
      "8339\n",
      "Kachou no Koi\n",
      "\n",
      "Source:\n",
      "  Manga\n",
      "  \n",
      "\n",
      "Members:\n",
      "    7,758\n",
      "\n",
      "34000\n",
      "Sugar Bunnies Fleur Specials\n",
      "\n",
      "Source:\n",
      "  Original\n",
      "  \n",
      "\n",
      "Members:\n",
      "    69\n",
      "\n",
      "21700\n",
      "14247\n",
      "15910\n",
      "14918\n",
      "10066\n",
      "19514\n",
      "4620\n",
      "5968\n",
      "Kinnikuman II Sei: Ultimate Muscle 2\n",
      "\n",
      "Source:\n",
      "  Manga\n",
      "  \n",
      "\n",
      "Members:\n",
      "    2,392\n",
      "\n",
      "26272\n",
      "12358\n",
      "17188\n",
      "5299\n",
      "Coffee Tadaiku\n",
      "\n",
      "Source:\n",
      "  Unknown\n",
      "  \n",
      "\n",
      "Members:\n",
      "    475\n",
      "\n",
      "16976\n",
      "25432\n",
      "20669\n",
      "27330\n",
      "6791\n",
      "Kanokon: Manatsu no Dai Shanikusai\n",
      "\n",
      "Source:\n",
      "  Unknown\n",
      "  \n",
      "\n",
      "Members:\n",
      "    27,821\n",
      "\n",
      "21135\n",
      "25456\n",
      "9128\n",
      "8287\n",
      "26980\n",
      "2790\n",
      "Oira Sukeban\n",
      "\n",
      "Source:\n",
      "  Unknown\n",
      "  \n",
      "\n",
      "Members:\n",
      "    1,031\n",
      "\n",
      "2318\n",
      "Dog Soldier\n",
      "\n",
      "Source:\n",
      "  Manga\n",
      "  \n",
      "\n",
      "Members:\n",
      "    927\n",
      "\n",
      "10932\n",
      "28413\n",
      "14729\n",
      "21466\n",
      "5366\n",
      "5635\n",
      "2024\n",
      "Yoshimune\n",
      "\n",
      "Source:\n",
      "  Unknown\n",
      "  \n",
      "\n",
      "Members:\n",
      "    421\n",
      "\n",
      "16385\n",
      "27766\n",
      "28032\n",
      "30698\n",
      "34391\n",
      "22779\n",
      "2988\n",
      "3439\n",
      "17907\n",
      "19813\n",
      "1995\n",
      "Lingerie Senshi Papillon Rose\n",
      "\n",
      "Source:\n",
      "  Unknown\n",
      "  \n",
      "\n",
      "Members:\n",
      "    4,394\n",
      "\n",
      "16285\n",
      "14414\n",
      "16717\n",
      "19937\n",
      "12336\n",
      "19842\n",
      "31652\n",
      "Taimanin Asagi 2\n",
      "\n",
      "Source:\n",
      "  Visual novel\n",
      "  \n",
      "\n",
      "Members:\n",
      "    2,672\n",
      "\n",
      "13098\n",
      "24933\n",
      "5590\n",
      "21114\n",
      "2239\n",
      "12475\n",
      "31851\n",
      "Dog Days'': Limone Resort Tenbou Onsen!\n",
      "\n",
      "Source:\n",
      "  Original\n",
      "  \n",
      "\n",
      "Members:\n",
      "    2,291\n",
      "\n",
      "29994\n",
      "33059\n",
      "11086\n",
      "22747\n",
      "4112\n",
      "Mouse and His Child\n",
      "\n",
      "Source:\n",
      "  Unknown\n",
      "  \n",
      "\n",
      "Members:\n",
      "    238\n",
      "\n",
      "34263\n",
      "ēlDLIVE: Jump Festa 2016 Special\n",
      "\n",
      "Source:\n",
      "  Web manga\n",
      "  \n",
      "\n",
      "Members:\n",
      "    0\n",
      "\n",
      "24269\n",
      "Chiisana Kyojin Microman: Daigekisen! Microman vs. Saikyou Senshi Gorgon\n",
      "\n",
      "Source:\n",
      "  Other\n",
      "  \n",
      "\n",
      "Members:\n",
      "    125\n",
      "\n",
      "18200\n",
      "8984\n",
      "1708\n",
      "11132\n",
      "6832\n",
      "1664\n",
      "Babel Nisei (2001)\n",
      "\n",
      "Source:\n",
      "  Manga\n",
      "  \n",
      "\n",
      "Members:\n",
      "    1,664\n",
      "\n",
      "14350\n",
      "29642\n",
      "8900\n",
      "Saru Getchu: On Air 2nd\n",
      "\n",
      "Source:\n",
      "  Game\n",
      "  \n",
      "\n",
      "Members:\n",
      "    296\n",
      "\n"
     ]
    }
   ],
   "source": [
    "for _ in range(145):\n",
    "    animenum = np.random.randint(34933)\n",
    "    print(animenum)\n",
    "    anime_scrape(animenum)"
   ]
  },
  {
   "cell_type": "code",
   "execution_count": 348,
   "metadata": {
    "collapsed": true
   },
   "outputs": [],
   "source": [
    "animedf = pd.DataFrame(anime_list)"
   ]
  },
  {
   "cell_type": "code",
   "execution_count": 349,
   "metadata": {},
   "outputs": [
    {
     "data": {
      "text/html": [
       "<div>\n",
       "<style>\n",
       "    .dataframe thead tr:only-child th {\n",
       "        text-align: right;\n",
       "    }\n",
       "\n",
       "    .dataframe thead th {\n",
       "        text-align: left;\n",
       "    }\n",
       "\n",
       "    .dataframe tbody tr th {\n",
       "        vertical-align: top;\n",
       "    }\n",
       "</style>\n",
       "<table border=\"1\" class=\"dataframe\">\n",
       "  <thead>\n",
       "    <tr style=\"text-align: right;\">\n",
       "      <th></th>\n",
       "      <th>aired</th>\n",
       "      <th>animeid</th>\n",
       "      <th>desc</th>\n",
       "      <th>genre0</th>\n",
       "      <th>genre1</th>\n",
       "      <th>genre2</th>\n",
       "      <th>genre3</th>\n",
       "      <th>genre4</th>\n",
       "      <th>genre5</th>\n",
       "      <th>genre6</th>\n",
       "      <th>length</th>\n",
       "      <th>member_reviews</th>\n",
       "      <th>name</th>\n",
       "      <th>source</th>\n",
       "    </tr>\n",
       "  </thead>\n",
       "  <tbody>\n",
       "    <tr>\n",
       "      <th>0</th>\n",
       "      <td>\\nAired:\\n  Apr 30, 2013\\n</td>\n",
       "      <td>18723</td>\n",
       "      <td>3D CG promotional video for the Soul Reviver m...</td>\n",
       "      <td>Action</td>\n",
       "      <td>Seinen</td>\n",
       "      <td>Supernatural</td>\n",
       "      <td>NaN</td>\n",
       "      <td>NaN</td>\n",
       "      <td>NaN</td>\n",
       "      <td>NaN</td>\n",
       "      <td>\\nEpisodes:\\n  1\\n</td>\n",
       "      <td>\\nMembers:\\n    380\\n</td>\n",
       "      <td>Soul Reviver</td>\n",
       "      <td>\\nSource:\\n  Unknown\\n</td>\n",
       "    </tr>\n",
       "    <tr>\n",
       "      <th>1</th>\n",
       "      <td>\\nAired:\\n  May 26, 2007 to May 1, 2009\\n</td>\n",
       "      <td>3999</td>\n",
       "      <td>Based on the game by Black-Lilith. \\n\\r\\nThe b...</td>\n",
       "      <td>Fantasy</td>\n",
       "      <td>Hentai</td>\n",
       "      <td>NaN</td>\n",
       "      <td>NaN</td>\n",
       "      <td>NaN</td>\n",
       "      <td>NaN</td>\n",
       "      <td>NaN</td>\n",
       "      <td>\\nEpisodes:\\n  4\\n</td>\n",
       "      <td>\\nMembers:\\n    3,318\\n</td>\n",
       "      <td>Dorei Maid Princess</td>\n",
       "      <td>\\nSource:\\n  Visual novel\\n</td>\n",
       "    </tr>\n",
       "    <tr>\n",
       "      <th>2</th>\n",
       "      <td>\\nAired:\\n  Jul 2, 2008 to Sep 17, 2008\\n</td>\n",
       "      <td>4063</td>\n",
       "      <td>Struggling yet brilliant teenager Minato Sahas...</td>\n",
       "      <td>Action</td>\n",
       "      <td>Comedy</td>\n",
       "      <td>Ecchi</td>\n",
       "      <td>Harem</td>\n",
       "      <td>Super Power</td>\n",
       "      <td>NaN</td>\n",
       "      <td>NaN</td>\n",
       "      <td>\\nEpisodes:\\n  12\\n</td>\n",
       "      <td>\\nMembers:\\n    206,760\\n</td>\n",
       "      <td>Sekirei</td>\n",
       "      <td>\\nSource:\\n  Manga\\n</td>\n",
       "    </tr>\n",
       "    <tr>\n",
       "      <th>3</th>\n",
       "      <td>\\nAired:\\n  Oct 4, 2010 to Oct 29, 2010\\n</td>\n",
       "      <td>9395</td>\n",
       "      <td>A Tyrannosaurus called Heart was raised by a h...</td>\n",
       "      <td>Adventure</td>\n",
       "      <td>Kids</td>\n",
       "      <td>NaN</td>\n",
       "      <td>NaN</td>\n",
       "      <td>NaN</td>\n",
       "      <td>NaN</td>\n",
       "      <td>NaN</td>\n",
       "      <td>\\nEpisodes:\\n  20\\n</td>\n",
       "      <td>\\nMembers:\\n    890\\n</td>\n",
       "      <td>Miyanishi Tatsuya Gekijou: Omae Umasou da na</td>\n",
       "      <td>\\nSource:\\n  Picture book\\n</td>\n",
       "    </tr>\n",
       "    <tr>\n",
       "      <th>4</th>\n",
       "      <td>NaN</td>\n",
       "      <td>33226</td>\n",
       "      <td>NaN</td>\n",
       "      <td>Comedy</td>\n",
       "      <td>Parody</td>\n",
       "      <td>Mecha</td>\n",
       "      <td>NaN</td>\n",
       "      <td>NaN</td>\n",
       "      <td>NaN</td>\n",
       "      <td>NaN</td>\n",
       "      <td>NaN</td>\n",
       "      <td>\\nMembers:\\n    323\\n</td>\n",
       "      <td>Kotowaza Gundam-san</td>\n",
       "      <td>\\nSource:\\n  Manga\\n</td>\n",
       "    </tr>\n",
       "  </tbody>\n",
       "</table>\n",
       "</div>"
      ],
      "text/plain": [
       "                                         aired  animeid  \\\n",
       "0                 \\nAired:\\n  Apr 30, 2013\\n      18723   \n",
       "1  \\nAired:\\n  May 26, 2007 to May 1, 2009\\n       3999   \n",
       "2  \\nAired:\\n  Jul 2, 2008 to Sep 17, 2008\\n       4063   \n",
       "3  \\nAired:\\n  Oct 4, 2010 to Oct 29, 2010\\n       9395   \n",
       "4                                          NaN    33226   \n",
       "\n",
       "                                                desc     genre0  genre1  \\\n",
       "0  3D CG promotional video for the Soul Reviver m...     Action  Seinen   \n",
       "1  Based on the game by Black-Lilith. \\n\\r\\nThe b...    Fantasy  Hentai   \n",
       "2  Struggling yet brilliant teenager Minato Sahas...     Action  Comedy   \n",
       "3  A Tyrannosaurus called Heart was raised by a h...  Adventure    Kids   \n",
       "4                                                NaN     Comedy  Parody   \n",
       "\n",
       "         genre2 genre3       genre4 genre5 genre6                 length  \\\n",
       "0  Supernatural    NaN          NaN    NaN    NaN   \\nEpisodes:\\n  1\\n     \n",
       "1           NaN    NaN          NaN    NaN    NaN   \\nEpisodes:\\n  4\\n     \n",
       "2         Ecchi  Harem  Super Power    NaN    NaN  \\nEpisodes:\\n  12\\n     \n",
       "3           NaN    NaN          NaN    NaN    NaN  \\nEpisodes:\\n  20\\n     \n",
       "4         Mecha    NaN          NaN    NaN    NaN                    NaN   \n",
       "\n",
       "              member_reviews                                          name  \\\n",
       "0      \\nMembers:\\n    380\\n                                  Soul Reviver   \n",
       "1    \\nMembers:\\n    3,318\\n                           Dorei Maid Princess   \n",
       "2  \\nMembers:\\n    206,760\\n                                       Sekirei   \n",
       "3      \\nMembers:\\n    890\\n  Miyanishi Tatsuya Gekijou: Omae Umasou da na   \n",
       "4      \\nMembers:\\n    323\\n                           Kotowaza Gundam-san   \n",
       "\n",
       "                          source  \n",
       "0       \\nSource:\\n  Unknown\\n    \n",
       "1  \\nSource:\\n  Visual novel\\n    \n",
       "2         \\nSource:\\n  Manga\\n    \n",
       "3  \\nSource:\\n  Picture book\\n    \n",
       "4         \\nSource:\\n  Manga\\n    "
      ]
     },
     "execution_count": 349,
     "metadata": {},
     "output_type": "execute_result"
    }
   ],
   "source": [
    "animedf.head()"
   ]
  },
  {
   "cell_type": "code",
   "execution_count": 341,
   "metadata": {
    "collapsed": true
   },
   "outputs": [],
   "source": [
    "animescrapedf = pd.DataFrame(animes_to_scrape)"
   ]
  },
  {
   "cell_type": "code",
   "execution_count": 344,
   "metadata": {},
   "outputs": [
    {
     "data": {
      "text/html": [
       "<div>\n",
       "<style>\n",
       "    .dataframe thead tr:only-child th {\n",
       "        text-align: right;\n",
       "    }\n",
       "\n",
       "    .dataframe thead th {\n",
       "        text-align: left;\n",
       "    }\n",
       "\n",
       "    .dataframe tbody tr th {\n",
       "        vertical-align: top;\n",
       "    }\n",
       "</style>\n",
       "<table border=\"1\" class=\"dataframe\">\n",
       "  <thead>\n",
       "    <tr style=\"text-align: right;\">\n",
       "      <th></th>\n",
       "      <th>animeid</th>\n",
       "      <th>rec_addr</th>\n",
       "      <th>review_addr</th>\n",
       "    </tr>\n",
       "  </thead>\n",
       "  <tbody>\n",
       "    <tr>\n",
       "      <th>0</th>\n",
       "      <td>25063</td>\n",
       "      <td>https://myanimelist.net/anime/25063/Anime_Rouk...</td>\n",
       "      <td>https://myanimelist.net/anime/25063/Anime_Rouk...</td>\n",
       "    </tr>\n",
       "    <tr>\n",
       "      <th>1</th>\n",
       "      <td>2778</td>\n",
       "      <td>https://myanimelist.net/anime/2778/Generation_...</td>\n",
       "      <td>https://myanimelist.net/anime/2778/Generation_...</td>\n",
       "    </tr>\n",
       "    <tr>\n",
       "      <th>2</th>\n",
       "      <td>9926</td>\n",
       "      <td>https://myanimelist.net/anime/9926/Sekaiichi_H...</td>\n",
       "      <td>https://myanimelist.net/anime/9926/Sekaiichi_H...</td>\n",
       "    </tr>\n",
       "    <tr>\n",
       "      <th>3</th>\n",
       "      <td>6930</td>\n",
       "      <td>https://myanimelist.net/anime/6930/Doraemon_Mo...</td>\n",
       "      <td>https://myanimelist.net/anime/6930/Doraemon_Mo...</td>\n",
       "    </tr>\n",
       "    <tr>\n",
       "      <th>4</th>\n",
       "      <td>596</td>\n",
       "      <td>https://myanimelist.net/anime/596/Chobits__Chi...</td>\n",
       "      <td>https://myanimelist.net/anime/596/Chobits__Chi...</td>\n",
       "    </tr>\n",
       "  </tbody>\n",
       "</table>\n",
       "</div>"
      ],
      "text/plain": [
       "   animeid                                           rec_addr  \\\n",
       "0    25063  https://myanimelist.net/anime/25063/Anime_Rouk...   \n",
       "1     2778  https://myanimelist.net/anime/2778/Generation_...   \n",
       "2     9926  https://myanimelist.net/anime/9926/Sekaiichi_H...   \n",
       "3     6930  https://myanimelist.net/anime/6930/Doraemon_Mo...   \n",
       "4      596  https://myanimelist.net/anime/596/Chobits__Chi...   \n",
       "\n",
       "                                         review_addr  \n",
       "0  https://myanimelist.net/anime/25063/Anime_Rouk...  \n",
       "1  https://myanimelist.net/anime/2778/Generation_...  \n",
       "2  https://myanimelist.net/anime/9926/Sekaiichi_H...  \n",
       "3  https://myanimelist.net/anime/6930/Doraemon_Mo...  \n",
       "4  https://myanimelist.net/anime/596/Chobits__Chi...  "
      ]
     },
     "execution_count": 344,
     "metadata": {},
     "output_type": "execute_result"
    }
   ],
   "source": [
    "animescrapedf.head()"
   ]
  },
  {
   "cell_type": "code",
   "execution_count": 58,
   "metadata": {},
   "outputs": [
    {
     "data": {
      "text/plain": [
       "'The self-proclaimed mad scientist Rintarou Okabe rents out a room in a rickety old building in Akihabara, where he indulges himself in his hobby of inventing prospective \"future gadgets\" with fellow lab members: Mayuri Shiina, his air-headed childhood friend, and Hashida Itaru, a perverted hacker nicknamed \"Daru.\" The three pass the time by tinkering with their most promising contraption yet, a machine dubbed the \"Phone Microwave,\" which performs the strange function of morphing bananas into piles of green gel.\\n\\r\\nThough miraculous in itself, the phenomenon doesn\\'t provide anything concrete in Okabe\\'s search for a scientific breakthrough; that is, until the lab members are spurred into action by a string of mysterious happenings before stumbling upon an unexpected success—the Phone Microwave can send emails to the past, altering the flow of history.\\n\\r\\nAdapted from the critically acclaimed visual novel by 5pb. and Nitroplus, Steins;Gate takes Okabe through the depths of scientific theory and practicality. Forced across the diverging threads of past and present, Okabe must shoulder the burdens that come with holding the key to the realm of time.\\n\\r\\n[Written by MAL Rewrite]'"
      ]
     },
     "execution_count": 58,
     "metadata": {},
     "output_type": "execute_result"
    }
   ],
   "source": [
    "anime_soup.find('span',{'itemprop':'description'}).text"
   ]
  },
  {
   "cell_type": "code",
   "execution_count": 124,
   "metadata": {},
   "outputs": [
    {
     "data": {
      "text/plain": [
       "'\\nMembers:\\n    809,444\\n'"
      ]
     },
     "execution_count": 124,
     "metadata": {},
     "output_type": "execute_result"
    }
   ],
   "source": [
    "anime_soup.find_all('div',{'class':'spaceit'})[7].text"
   ]
  },
  {
   "cell_type": "code",
   "execution_count": 117,
   "metadata": {
    "collapsed": true
   },
   "outputs": [],
   "source": [
    "genres= anime_soup.find_all('span',{'class':'dark_text'})[13].fetchNextSiblings()\n"
   ]
  },
  {
   "cell_type": "code",
   "execution_count": 119,
   "metadata": {},
   "outputs": [
    {
     "data": {
      "text/plain": [
       "'Sci-Fi'"
      ]
     },
     "execution_count": 119,
     "metadata": {},
     "output_type": "execute_result"
    }
   ],
   "source": [
    "genres[0].text"
   ]
  },
  {
   "cell_type": "code",
   "execution_count": 162,
   "metadata": {
    "collapsed": true
   },
   "outputs": [],
   "source": [
    "animedict ={'animeid': anime_num}\n",
    "anime_scrape_dict = {'animeid': anime_num}\n",
    "pulladdress = 'https://myanimelist.net/anime/'+str(anime_num)\n",
    "anime_response = requests.get(pulladdress)\n",
    "anime_soup = BeautifulSoup(anime_response.content, 'lxml')\n",
    "animedict['name'] = anime_soup.find('span',{'itemprop':'name'}).text\n",
    "anime_scrape_dict['review_addr']= anime_soup.find('div',{'id':'horiznav_nav'}).find_all('a')[3]['href']\n",
    "anime_scrape_dict['rec_addr']= anime_soup.find('div',{'id':'horiznav_nav'}).find_all('a')[4]['href']\n",
    "\n",
    "try:\n",
    "    for tag in range(len(anime_soup.find_all('div',{'class':'spaceit'}))):\n",
    "        if anime_soup.find_all('div',{'class':'spaceit'})[tag].text.find('Members')!=-1:\n",
    "            animedict['member_reviews']= anime_soup.find_all('div',{'class':'spaceit'})[tag].text\n",
    "        elif:\n",
    "            ifanime_soup.find_all('div',{'class':'spaceit'})[tag].text.find('Source')!=-1:\n",
    "                animedict['source']=anime_soup.find_all('div',{'class':'spaceit'})[num].text\n",
    "            \n",
    "    animedict['desc'] = anime_soup.find('span',{'itemprop':'description'}).text\n",
    "    \n",
    "    animedict['length']=anime_soup.find_all('div',{'class':'spaceit'})[0].text\n",
    "    animedict['aired']=anime_soup.find_all('div',{'class':'spaceit'})[1].text\n",
    "    animedict['source']=anime_soup.find_all('div',{'class':'spaceit'})[4].text\n",
    "\n",
    "    genres=anime_soup.find_all('span',{'class':'dark_text'})[13].fetchNextSiblings()\n",
    "\n",
    "    for num in range(len(genres)):\n",
    "        genrename= 'genre'+str(num)\n",
    "        animedict[genrename]= genres[num].text\n",
    "try:\n",
    "    animedict['member_reviews']= anime_soup.find_all('div',{'class':'spaceit'})[6].text\n",
    "except:\n",
    "    animedict['member_reviews']= anime_soup.find_all('div',{'class':'spaceit'})[7].text\n",
    "    animes_to_scrape.append(anime_scrape_dict)\n",
    "anime_list.append(animedict)\n"
   ]
  },
  {
   "cell_type": "code",
   "execution_count": 320,
   "metadata": {
    "collapsed": true
   },
   "outputs": [],
   "source": [
    "anime_num = 9342"
   ]
  },
  {
   "cell_type": "code",
   "execution_count": 323,
   "metadata": {
    "collapsed": true
   },
   "outputs": [],
   "source": [
    "animedict ={'animeid': anime_num}\n",
    "anime_scrape_dict = {'animeid': anime_num}\n",
    "pulladdress = 'https://myanimelist.net/anime/'+str(anime_num)\n",
    "anime_response = requests.get(pulladdress)\n",
    "anime_soup = BeautifulSoup(anime_response.content, 'lxml')\n"
   ]
  },
  {
   "cell_type": "code",
   "execution_count": 324,
   "metadata": {},
   "outputs": [
    {
     "data": {
      "text/plain": [
       "True"
      ]
     },
     "execution_count": 324,
     "metadata": {},
     "output_type": "execute_result"
    }
   ],
   "source": [
    "anime_response.ok\n"
   ]
  },
  {
   "cell_type": "code",
   "execution_count": 325,
   "metadata": {},
   "outputs": [
    {
     "data": {
      "text/plain": [
       "'https://myanimelist.net/anime/9342/Twinkle_Nora_Rock_Me/userrecs'"
      ]
     },
     "execution_count": 325,
     "metadata": {},
     "output_type": "execute_result"
    }
   ],
   "source": [
    "anime_soup.find('div',{'id':'horiznav_nav'}).find_all('a')[3]['href']"
   ]
  },
  {
   "cell_type": "code",
   "execution_count": 326,
   "metadata": {
    "collapsed": true
   },
   "outputs": [],
   "source": [
    "members = anime_soup.find_all('div',{'class':'spaceit'})[0]"
   ]
  },
  {
   "cell_type": "code",
   "execution_count": 192,
   "metadata": {
    "collapsed": true
   },
   "outputs": [],
   "source": [
    "source= anime_soup.find_all('div',{'class':'spaceit'})[3]"
   ]
  },
  {
   "cell_type": "code",
   "execution_count": 247,
   "metadata": {},
   "outputs": [
    {
     "data": {
      "text/plain": [
       "8502"
      ]
     },
     "execution_count": 247,
     "metadata": {},
     "output_type": "execute_result"
    }
   ],
   "source": [
    "anime_soup.text.find('Source')\n"
   ]
  },
  {
   "cell_type": "code",
   "execution_count": 332,
   "metadata": {},
   "outputs": [
    {
     "data": {
      "text/plain": [
       "'Twinkle Nora Rock Me!'"
      ]
     },
     "execution_count": 332,
     "metadata": {},
     "output_type": "execute_result"
    }
   ],
   "source": [
    "anime_soup.find('span',{'itemprop':'name'}).text\n"
   ]
  },
  {
   "cell_type": "code",
   "execution_count": 250,
   "metadata": {},
   "outputs": [
    {
     "data": {
      "text/plain": [
       "'Source\\n     \\xa0\\n\\n\\nTwinkle Nora Rock Me!\\n\\n\\n\\n\\n\\n\\n\\n\\n\\n\\nAdd to My List\\n\\n\\n\\n\\n\\n\\nStatus:\\n\\nWatchingCompletedOn-'"
      ]
     },
     "execution_count": 250,
     "metadata": {},
     "output_type": "execute_result"
    }
   ],
   "source": [
    "anime_soup.text[8502:8600]"
   ]
  },
  {
   "cell_type": "code",
   "execution_count": 220,
   "metadata": {},
   "outputs": [
    {
     "data": {
      "text/plain": [
       "<div class=\"spaceit\">\n",
       "<span class=\"dark_text\">Source:</span>\n",
       "  Manga\n",
       "  </div>"
      ]
     },
     "execution_count": 220,
     "metadata": {},
     "output_type": "execute_result"
    }
   ],
   "source": [
    "source.extract()."
   ]
  },
  {
   "cell_type": "code",
   "execution_count": 205,
   "metadata": {
    "collapsed": true
   },
   "outputs": [],
   "source": [
    "mal_anime =mal_scraper.get_anime(id_ref=9342)"
   ]
  },
  {
   "cell_type": "code",
   "execution_count": 234,
   "metadata": {},
   "outputs": [
    {
     "data": {
      "text/plain": [
       "1"
      ]
     },
     "execution_count": 234,
     "metadata": {},
     "output_type": "execute_result"
    }
   ],
   "source": [
    "source.text.find('Source')"
   ]
  },
  {
   "cell_type": "code",
   "execution_count": 259,
   "metadata": {},
   "outputs": [
    {
     "name": "stdout",
     "output_type": "stream",
     "text": [
      "0\n",
      "1\n",
      "2\n",
      "3\n",
      "4\n",
      "5\n",
      "<div class=\"spaceit\">\n",
      "<span class=\"dark_text\">Members:</span>\n",
      "    447\n",
      "</div>\n",
      "6\n",
      "7\n",
      "8\n",
      "9\n",
      "10\n",
      "11\n",
      "12\n",
      "13\n"
     ]
    }
   ],
   "source": [
    "for tag in range(len(anime_soup.find_all('div',{'class':'spaceit'}))):\n",
    "    print(tag)\n",
    "    if anime_soup.find_all('div',{'class':'spaceit'})[tag].text.find('Members')!=-1:\n",
    "        print(anime_soup.find_all('div',{'class':'spaceit'})[tag])"
   ]
  },
  {
   "cell_type": "code",
   "execution_count": 278,
   "metadata": {},
   "outputs": [
    {
     "data": {
      "text/plain": [
       "<span class=\"dark_text\">Genres:</span>"
      ]
     },
     "execution_count": 278,
     "metadata": {},
     "output_type": "execute_result"
    }
   ],
   "source": [
    "anime_soup.find_all('span',{'class':'dark_text'})[8]"
   ]
  },
  {
   "cell_type": "code",
   "execution_count": 284,
   "metadata": {},
   "outputs": [
    {
     "data": {
      "text/plain": [
       "-1"
      ]
     },
     "execution_count": 284,
     "metadata": {},
     "output_type": "execute_result"
    }
   ],
   "source": [
    "anime_soup.find_all('span',{'class':'dark_text'})[7].text.find('')"
   ]
  }
 ],
 "metadata": {
  "kernelspec": {
   "display_name": "Python 3",
   "language": "python",
   "name": "python3"
  },
  "language_info": {
   "codemirror_mode": {
    "name": "ipython",
    "version": 3
   },
   "file_extension": ".py",
   "mimetype": "text/x-python",
   "name": "python",
   "nbconvert_exporter": "python",
   "pygments_lexer": "ipython3",
   "version": "3.6.1"
  }
 },
 "nbformat": 4,
 "nbformat_minor": 2
}
