{
 "cells": [
  {
   "cell_type": "code",
   "execution_count": 2,
   "metadata": {
    "collapsed": true
   },
   "outputs": [],
   "source": [
    "import requests\n",
    "from bs4 import BeautifulSoup\n",
    "import pandas as pd\n",
    "import time\n",
    "\n",
    "import mal_scraper"
   ]
  },
  {
   "cell_type": "code",
   "execution_count": 77,
   "metadata": {
    "collapsed": true
   },
   "outputs": [],
   "source": [
    "reviewlist = []"
   ]
  },
  {
   "cell_type": "code",
   "execution_count": 103,
   "metadata": {
    "collapsed": true
   },
   "outputs": [],
   "source": [
    "def scraperview(url, anime_id):   \n",
    "    searchnum=1\n",
    "    endoflist =False\n",
    "    while endoflist is False:\n",
    "        httptoken = url+'?p='+str(searchnum)\n",
    "        try:\n",
    "            httptoken = url+'?p='+str(searchnum)\n",
    "        except:\n",
    "            endoflist = True\n",
    "        time.sleep(1)\n",
    "        response = requests.get(httptoken)\n",
    "        review_soup = BeautifulSoup(response.content, 'lxml')\n",
    "        reviews = review_soup.find_all('div',{'class':'borderDark'})\n",
    "        if len(reviews)==0:\n",
    "            endoflist = True\n",
    "        for review in reviews:\n",
    "            reviewdict= {}\n",
    "            score= review.find_all('td', {'class',\"borderClass\"})\n",
    "            reviewdict[score[0].text] =score[1].text\n",
    "            reviewdict[score[2].text] =score[3].text\n",
    "            reviewdict[score[4].text] =score[5].text\n",
    "            reviewdict[score[6].text] =score[7].text\n",
    "            reviewdict[score[8].text] =score[9].text\n",
    "            reviewdict[score[10].text] =score[11].text\n",
    "            reviewdict['anime_id'] = anime_id\n",
    "            reviewdict['user'] = review.find_all('a')[2].text\n",
    "            reviewdict['unkey'] = str(anime_id)+str(review.find_all('a')[2].text)\n",
    "            fullreview = review.find('div', {'class':\"spaceit textReadability word-break pt8 mt8\"}).text\n",
    "            cleanreview = fullreview.replace('\\n','').replace('\\r','')[50:-16]\n",
    "            reviewdict['text']= cleanreview\n",
    "            \n",
    "            reviewlist.append(reviewdict)\n",
    "        searchnum = searchnum+1\n",
    "         \n",
    "               "
   ]
  },
  {
   "cell_type": "code",
   "execution_count": null,
   "metadata": {
    "collapsed": true
   },
   "outputs": [],
   "source": []
  },
  {
   "cell_type": "code",
   "execution_count": 3,
   "metadata": {
    "collapsed": true
   },
   "outputs": [],
   "source": [
    "url = 'https://myanimelist.net/anime/596/Chobits__Chibits/reviews'"
   ]
  },
  {
   "cell_type": "code",
   "execution_count": 104,
   "metadata": {
    "collapsed": true
   },
   "outputs": [],
   "source": [
    "scraperview(url,'596')"
   ]
  },
  {
   "cell_type": "code",
   "execution_count": 99,
   "metadata": {},
   "outputs": [
    {
     "data": {
      "text/plain": [
       "[{'Animation': '8',\n",
       "  'Character': '8',\n",
       "  'Enjoyment': '7',\n",
       "  'Overall': '7',\n",
       "  'Sound': '8',\n",
       "  'Story': '7',\n",
       "  'text': \"                              Well, there's not really much to talk about since it's only a 6 min special. Basically it's a story of two mini Persocoms trying to return Chi's underwear :PIt uses, as you would expect, the same kind of animations and sound effects from the series which is always nice. It just seems overall like an exaggerated bit of humour which could of been taken from the show and is overall pretty enjoyable.If you're a fan of the show it's simply one of those item's that can just help round off and add to the whole Chobits experience (and plus you get to see the cuteness                  of Chi again, :D lol).        \",\n",
       "  'user': '5hRreDDy'},\n",
       " {'Animation': '9',\n",
       "  'Character': '10',\n",
       "  'Enjoyment': '9',\n",
       "  'Overall': '9',\n",
       "  'Sound': '7',\n",
       "  'Story': '7',\n",
       "  'text': \"9                              Chibits, a very very VERY cute anime. Its a special episode for the anime 'Chobits'.The story I would say is, once again, uber kawaii~! And no need to worry if you didnt watch its parent story (Chobits). You will still understand its very little, simple story. :D Characters.. its sooo (here I go again) cute! Since we all find Sumomo and Kotoko very very cute and adorable. Oh, they are like the main characters there. Overall, this is one of a very nice anime to watch! You wouldnt waste your 6 minutes watching it. :D  \",\n",
       "  'user': 'goatcelery96'},\n",
       " {'Animation': '7',\n",
       "  'Character': '5',\n",
       "  'Enjoyment': '6',\n",
       "  'Overall': '5',\n",
       "  'Sound': '4',\n",
       "  'Story': '5',\n",
       "  'text': '                              Wow, this is actually not as perverted as you thought it was going to be. The story line actually holds back some though not as much as I would hope. This doesn’t really tell you when this is happening; weather it is after the show or in the middle of it but it’s a bit funny none the less. The artwork is the same as in the show, so not much to say on it. It’s bright, childish at times and yet shows a lot of detail.The voices I have to sigh at. I don’t like how high pitched the two little bots voices are,                  and just couldn’t stand it. I just could not deal with to much of the sound.',\n",
       "  'user': 'angelsreview'},\n",
       " {'Animation': '7',\n",
       "  'Character': '8',\n",
       "  'Enjoyment': '8',\n",
       "  'Overall': '7',\n",
       "  'Sound': '7',\n",
       "  'Story': '6',\n",
       "  'text': \"                              It was cute. Mostly.  If you're jonesing for Chobits, in particular, Chii, Sumomo, and/or Kotoko, this is a fine, quick fix of kawaisa.  It's more of the panty fetish, which seems to be a big thing for the anime writers.However, and let me preface a huge caveat with this:  I love Sumomo.  Dearly.  She's as cute as a button and I'll be the first guy on my block to get me a little Sumomo persocon when they come out.BUT -  if I EVER saw Sumomo or Kotoko with the horrifying expressions on their faces at the 4:30 mark, I                  would have no other recourse, but to burn them both, with a Eucharist wafer stuffed in their mouths, and a wooden stake pounded deeply through their adorable little hearts.And, having seen them like that, and knowing they're even capable of such a look, it's kind of hard to forget it and go back to adoring them.  What has been seen cannot be unseen, and all that.Why CLAMP would sign off on those four seconds of animation is utterly beyond me.        \",\n",
       "  'user': 'skiddly'},\n",
       " {'Animation': '8',\n",
       "  'Character': '8',\n",
       "  'Enjoyment': '7',\n",
       "  'Overall': '7',\n",
       "  'Sound': '8',\n",
       "  'Story': '7',\n",
       "  'anime_id': '596',\n",
       "  'text': \"                              Well, there's not really much to talk about since it's only a 6 min special. Basically it's a story of two mini Persocoms trying to return Chi's underwear :PIt uses, as you would expect, the same kind of animations and sound effects from the series which is always nice. It just seems overall like an exaggerated bit of humour which could of been taken from the show and is overall pretty enjoyable.If you're a fan of the show it's simply one of those item's that can just help round off and add to the whole Chobits experience (and plus you get to see the cuteness                  of Chi again, :D lol).        \",\n",
       "  'user': '5hRreDDy'},\n",
       " {'Animation': '9',\n",
       "  'Character': '10',\n",
       "  'Enjoyment': '9',\n",
       "  'Overall': '9',\n",
       "  'Sound': '7',\n",
       "  'Story': '7',\n",
       "  'anime_id': '596',\n",
       "  'text': \"9                              Chibits, a very very VERY cute anime. Its a special episode for the anime 'Chobits'.The story I would say is, once again, uber kawaii~! And no need to worry if you didnt watch its parent story (Chobits). You will still understand its very little, simple story. :D Characters.. its sooo (here I go again) cute! Since we all find Sumomo and Kotoko very very cute and adorable. Oh, they are like the main characters there. Overall, this is one of a very nice anime to watch! You wouldnt waste your 6 minutes watching it. :D  \",\n",
       "  'user': 'goatcelery96'},\n",
       " {'Animation': '7',\n",
       "  'Character': '5',\n",
       "  'Enjoyment': '6',\n",
       "  'Overall': '5',\n",
       "  'Sound': '4',\n",
       "  'Story': '5',\n",
       "  'anime_id': '596',\n",
       "  'text': '                              Wow, this is actually not as perverted as you thought it was going to be. The story line actually holds back some though not as much as I would hope. This doesn’t really tell you when this is happening; weather it is after the show or in the middle of it but it’s a bit funny none the less. The artwork is the same as in the show, so not much to say on it. It’s bright, childish at times and yet shows a lot of detail.The voices I have to sigh at. I don’t like how high pitched the two little bots voices are,                  and just couldn’t stand it. I just could not deal with to much of the sound.',\n",
       "  'user': 'angelsreview'},\n",
       " {'Animation': '7',\n",
       "  'Character': '8',\n",
       "  'Enjoyment': '8',\n",
       "  'Overall': '7',\n",
       "  'Sound': '7',\n",
       "  'Story': '6',\n",
       "  'anime_id': '596',\n",
       "  'text': \"                              It was cute. Mostly.  If you're jonesing for Chobits, in particular, Chii, Sumomo, and/or Kotoko, this is a fine, quick fix of kawaisa.  It's more of the panty fetish, which seems to be a big thing for the anime writers.However, and let me preface a huge caveat with this:  I love Sumomo.  Dearly.  She's as cute as a button and I'll be the first guy on my block to get me a little Sumomo persocon when they come out.BUT -  if I EVER saw Sumomo or Kotoko with the horrifying expressions on their faces at the 4:30 mark, I                  would have no other recourse, but to burn them both, with a Eucharist wafer stuffed in their mouths, and a wooden stake pounded deeply through their adorable little hearts.And, having seen them like that, and knowing they're even capable of such a look, it's kind of hard to forget it and go back to adoring them.  What has been seen cannot be unseen, and all that.Why CLAMP would sign off on those four seconds of animation is utterly beyond me.        \",\n",
       "  'user': 'skiddly'}]"
      ]
     },
     "execution_count": 99,
     "metadata": {},
     "output_type": "execute_result"
    }
   ],
   "source": [
    "reviewlist"
   ]
  },
  {
   "cell_type": "code",
   "execution_count": 105,
   "metadata": {
    "collapsed": true
   },
   "outputs": [],
   "source": [
    "reviewdf = pd.DataFrame(reviewlist)"
   ]
  },
  {
   "cell_type": "code",
   "execution_count": 106,
   "metadata": {},
   "outputs": [
    {
     "data": {
      "text/html": [
       "<div>\n",
       "<style>\n",
       "    .dataframe thead tr:only-child th {\n",
       "        text-align: right;\n",
       "    }\n",
       "\n",
       "    .dataframe thead th {\n",
       "        text-align: left;\n",
       "    }\n",
       "\n",
       "    .dataframe tbody tr th {\n",
       "        vertical-align: top;\n",
       "    }\n",
       "</style>\n",
       "<table border=\"1\" class=\"dataframe\">\n",
       "  <thead>\n",
       "    <tr style=\"text-align: right;\">\n",
       "      <th></th>\n",
       "      <th>Animation</th>\n",
       "      <th>Character</th>\n",
       "      <th>Enjoyment</th>\n",
       "      <th>Overall</th>\n",
       "      <th>Sound</th>\n",
       "      <th>Story</th>\n",
       "      <th>anime_id</th>\n",
       "      <th>text</th>\n",
       "      <th>unkey</th>\n",
       "      <th>user</th>\n",
       "    </tr>\n",
       "  </thead>\n",
       "  <tbody>\n",
       "    <tr>\n",
       "      <th>7</th>\n",
       "      <td>7</td>\n",
       "      <td>8</td>\n",
       "      <td>8</td>\n",
       "      <td>7</td>\n",
       "      <td>7</td>\n",
       "      <td>6</td>\n",
       "      <td>596</td>\n",
       "      <td>It was cute. Mos...</td>\n",
       "      <td>NaN</td>\n",
       "      <td>skiddly</td>\n",
       "    </tr>\n",
       "    <tr>\n",
       "      <th>8</th>\n",
       "      <td>8</td>\n",
       "      <td>8</td>\n",
       "      <td>7</td>\n",
       "      <td>7</td>\n",
       "      <td>8</td>\n",
       "      <td>7</td>\n",
       "      <td>596</td>\n",
       "      <td>Well, there's no...</td>\n",
       "      <td>5965hRreDDy</td>\n",
       "      <td>5hRreDDy</td>\n",
       "    </tr>\n",
       "    <tr>\n",
       "      <th>9</th>\n",
       "      <td>9</td>\n",
       "      <td>10</td>\n",
       "      <td>9</td>\n",
       "      <td>9</td>\n",
       "      <td>7</td>\n",
       "      <td>7</td>\n",
       "      <td>596</td>\n",
       "      <td>9                              Chibits, a very...</td>\n",
       "      <td>596goatcelery96</td>\n",
       "      <td>goatcelery96</td>\n",
       "    </tr>\n",
       "    <tr>\n",
       "      <th>10</th>\n",
       "      <td>7</td>\n",
       "      <td>5</td>\n",
       "      <td>6</td>\n",
       "      <td>5</td>\n",
       "      <td>4</td>\n",
       "      <td>5</td>\n",
       "      <td>596</td>\n",
       "      <td>Wow, this is act...</td>\n",
       "      <td>596angelsreview</td>\n",
       "      <td>angelsreview</td>\n",
       "    </tr>\n",
       "    <tr>\n",
       "      <th>11</th>\n",
       "      <td>7</td>\n",
       "      <td>8</td>\n",
       "      <td>8</td>\n",
       "      <td>7</td>\n",
       "      <td>7</td>\n",
       "      <td>6</td>\n",
       "      <td>596</td>\n",
       "      <td>It was cute. Mos...</td>\n",
       "      <td>596skiddly</td>\n",
       "      <td>skiddly</td>\n",
       "    </tr>\n",
       "  </tbody>\n",
       "</table>\n",
       "</div>"
      ],
      "text/plain": [
       "   Animation Character Enjoyment Overall Sound Story anime_id  \\\n",
       "7          7         8         8       7     7     6      596   \n",
       "8          8         8         7       7     8     7      596   \n",
       "9          9        10         9       9     7     7      596   \n",
       "10         7         5         6       5     4     5      596   \n",
       "11         7         8         8       7     7     6      596   \n",
       "\n",
       "                                                 text            unkey  \\\n",
       "7                                 It was cute. Mos...              NaN   \n",
       "8                                 Well, there's no...      5965hRreDDy   \n",
       "9   9                              Chibits, a very...  596goatcelery96   \n",
       "10                                Wow, this is act...  596angelsreview   \n",
       "11                                It was cute. Mos...       596skiddly   \n",
       "\n",
       "            user  \n",
       "7        skiddly  \n",
       "8       5hRreDDy  \n",
       "9   goatcelery96  \n",
       "10  angelsreview  \n",
       "11       skiddly  "
      ]
     },
     "execution_count": 106,
     "metadata": {},
     "output_type": "execute_result"
    }
   ],
   "source": [
    "reviewdf.tail()"
   ]
  },
  {
   "cell_type": "code",
   "execution_count": 72,
   "metadata": {
    "collapsed": true
   },
   "outputs": [],
   "source": [
    "httptoken = url+'?p='+str(10)"
   ]
  },
  {
   "cell_type": "code",
   "execution_count": 73,
   "metadata": {
    "collapsed": true
   },
   "outputs": [],
   "source": [
    "response = requests.get(httptoken)\n",
    "review_soup = BeautifulSoup(response.content, 'lxml')\n",
    "reviews = review_soup.find_all('div',{'class':'borderDark'})\n"
   ]
  },
  {
   "cell_type": "code",
   "execution_count": 76,
   "metadata": {},
   "outputs": [
    {
     "data": {
      "text/plain": [
       "0"
      ]
     },
     "execution_count": 76,
     "metadata": {},
     "output_type": "execute_result"
    }
   ],
   "source": [
    "len(reviews)"
   ]
  },
  {
   "cell_type": "code",
   "execution_count": 75,
   "metadata": {},
   "outputs": [
    {
     "ename": "IndexError",
     "evalue": "list index out of range",
     "output_type": "error",
     "traceback": [
      "\u001b[0;31m---------------------------------------------------------------------------\u001b[0m",
      "\u001b[0;31mIndexError\u001b[0m                                Traceback (most recent call last)",
      "\u001b[0;32m<ipython-input-75-29023095e789>\u001b[0m in \u001b[0;36m<module>\u001b[0;34m()\u001b[0m\n\u001b[0;32m----> 1\u001b[0;31m \u001b[0mreview\u001b[0m\u001b[0;34m=\u001b[0m \u001b[0mreview_soup\u001b[0m\u001b[0;34m.\u001b[0m\u001b[0mfind_all\u001b[0m\u001b[0;34m(\u001b[0m\u001b[0;34m'div'\u001b[0m\u001b[0;34m,\u001b[0m\u001b[0;34m{\u001b[0m\u001b[0;34m'class'\u001b[0m\u001b[0;34m:\u001b[0m\u001b[0;34m'borderDark'\u001b[0m\u001b[0;34m}\u001b[0m\u001b[0;34m)\u001b[0m\u001b[0;34m[\u001b[0m\u001b[0;36m0\u001b[0m\u001b[0;34m]\u001b[0m\u001b[0;34m\u001b[0m\u001b[0m\n\u001b[0m",
      "\u001b[0;31mIndexError\u001b[0m: list index out of range"
     ]
    }
   ],
   "source": [
    "review= review_soup.find_all('div',{'class':'borderDark'})[0]"
   ]
  },
  {
   "cell_type": "code",
   "execution_count": 69,
   "metadata": {},
   "outputs": [
    {
     "data": {
      "text/plain": [
       "<div class=\"borderDark\" style=\"padding: 4px 0;\">\n",
       "<div class=\"spaceit\">\n",
       "<div class=\"mb8\" style=\"float: right; text-align: right;\">\n",
       "<div title=\"10:41 AM\">Mar 27, 2008</div>\n",
       "<div class=\"lightLink spaceit\">\n",
       "                  1 of 1 episodes seen\n",
       "              </div>\n",
       "<div>\n",
       "<a href=\"javascript:void(0);\" onclick=\"$('#score3426').toggle()\">Overall Rating</a>:\n",
       "        7\n",
       "      </div>\n",
       "</div><div style=\"float: left;\">\n",
       "<table border=\"0\" cellpadding=\"0\" cellspacing=\"0\" width=\"100%\">\n",
       "<tr>\n",
       "<td valign=\"top\" width=\"60\">\n",
       "<div class=\"picSurround\">\n",
       "<a href=\"https://myanimelist.net/profile/5hRreDDy\">\n",
       "<img border=\"0\" class=\" lazyloaded\" data-src=\"https://myanimelist.cdn-dena.com/images/userimages/thumbs/38726_thumb.jpg\" src=\"https://myanimelist.cdn-dena.com/images/userimages/thumbs/38726_thumb.jpg\"/>\n",
       "</a>\n",
       "</div>\n",
       "</td>\n",
       "<td valign=\"top\">\n",
       "<a href=\"https://myanimelist.net/profile/5hRreDDy\">5hRreDDy</a>\n",
       "<small>(<a href=\"/profile/5hRreDDy/reviews\">All reviews</a>)</small><br/>\n",
       "<div class=\"lightLink spaceit\">\n",
       "<strong>\n",
       "<span id=\"rhelp3426\">36</span>\n",
       "</strong>\n",
       "              people found this review helpful\n",
       "            </div>\n",
       "</td>\n",
       "</tr>\n",
       "</table>\n",
       "</div>\n",
       "</div>\n",
       "<div class=\"spaceit textReadability word-break pt8 mt8\" style=\"clear: both; border-top: 1px solid #ebebeb;\">\n",
       "<div id=\"score3426\" style=\"float: left; display: none; margin: 0 10px 10px 0\">\n",
       "<table border=\"0\" cellpadding=\"0\" cellspacing=\"0\" class=\"borderClass\" style=\"border-width: 1px;\" width=\"105\">\n",
       "<tr>\n",
       "<td class=\"borderClass bgColor1\"><strong>Overall</strong></td>\n",
       "<td class=\"borderClass bgColor1\"><strong>7</strong></td>\n",
       "</tr>\n",
       "<tr>\n",
       "<td align=\"left\" class=\"borderClass\">Story</td>\n",
       "<td class=\"borderClass\">7</td>\n",
       "</tr>\n",
       "<tr>\n",
       "<td align=\"left\" class=\"borderClass\">Animation</td>\n",
       "<td class=\"borderClass\">8</td>\n",
       "</tr>\n",
       "<tr>\n",
       "<td align=\"left\" class=\"borderClass\">Sound</td>\n",
       "<td class=\"borderClass\">8</td>\n",
       "</tr>\n",
       "<tr>\n",
       "<td align=\"left\" class=\"borderClass\">Character</td>\n",
       "<td class=\"borderClass\">8</td>\n",
       "</tr>\n",
       "<tr>\n",
       "<td align=\"left\" class=\"borderClass\" style=\"border-width: 0;\">Enjoyment</td>\n",
       "<td class=\"borderClass\" style=\"border-width: 0;\">7</td>\n",
       "</tr>\n",
       "</table>\n",
       "</div>\n",
       "\n",
       "                          \n",
       "    Well, there's not really much to talk about since it's only a 6 min special. Basically it's a story of two mini Persocoms trying to return Chi's underwear :P<br/>\n",
       "<br/>\n",
       "It uses, as you would expect, the same kind of animations and sound effects from the series which is always nice. It just seems overall like an exaggerated bit of humour which could of been taken from the show and is overall pretty enjoyable.<br/>\n",
       "<br/>\n",
       "If you're a fan of the show it's simply one of those item's that can just help round off and add to the whole Chobits experience (and plus you get to see the cuteness\n",
       "\n",
       "          <span id=\"review3426\" style=\"display: none;\">\n",
       "        of Chi again, :D lol).\n",
       "        \n",
       "<div class=\"mt8 js-review-btn-helpful js-review-helpful-3426\" id=\"revhelp_output_3426\">\n",
       "<a class=\"button_form\" href=\"https://myanimelist.net/login.php?from=%2Fanime%2F596%2FChobits__Chibits%2Freviews%3Fp%3D1\">Helpful</a>\n",
       "</div>\n",
       "</span>\n",
       "<a class=\"js-toggle-review-button\" data-id=\"3426\" href=\"javascript:void(0);\" id=\"reviewToggle3426\">read more</a>\n",
       "</div>\n",
       "<div>\n",
       "<div class=\"mt12 pt4 pb4 pl0 pr0 clearfix\">\n",
       "<div style=\"float: right;\">\n",
       "<a class=\"lightLink\" href=\"https://myanimelist.net/reviews.php?id=3426\"><small>permalink</small></a> |\n",
       "                        <a class=\"lightLink\" href=\"https://myanimelist.net/dbchanges.php?go=reportreview&amp;id=3426\">\n",
       "<small>report</small>\n",
       "</a>\n",
       "</div>\n",
       "</div>\n",
       "</div>\n",
       "</div>"
      ]
     },
     "execution_count": 69,
     "metadata": {},
     "output_type": "execute_result"
    }
   ],
   "source": [
    "review"
   ]
  },
  {
   "cell_type": "code",
   "execution_count": 26,
   "metadata": {},
   "outputs": [
    {
     "data": {
      "text/plain": [
       "<div class=\"borderDark\" style=\"padding: 4px 0;\">\n",
       "<div class=\"spaceit\">\n",
       "<div class=\"mb8\" style=\"float: right; text-align: right;\">\n",
       "<div title=\"10:41 AM\">Mar 27, 2008</div>\n",
       "<div class=\"lightLink spaceit\">\n",
       "                  1 of 1 episodes seen\n",
       "              </div>\n",
       "<div>\n",
       "<a href=\"javascript:void(0);\" onclick=\"$('#score3426').toggle()\">Overall Rating</a>:\n",
       "        7\n",
       "      </div>\n",
       "</div><div style=\"float: left;\">\n",
       "<table border=\"0\" cellpadding=\"0\" cellspacing=\"0\" width=\"100%\">\n",
       "<tr>\n",
       "<td valign=\"top\" width=\"60\">\n",
       "<div class=\"picSurround\">\n",
       "<a href=\"https://myanimelist.net/profile/5hRreDDy\">\n",
       "<img border=\"0\" class=\" lazyloaded\" data-src=\"https://myanimelist.cdn-dena.com/images/userimages/thumbs/38726_thumb.jpg\" src=\"https://myanimelist.cdn-dena.com/images/userimages/thumbs/38726_thumb.jpg\"/>\n",
       "</a>\n",
       "</div>\n",
       "</td>\n",
       "<td valign=\"top\">\n",
       "<a href=\"https://myanimelist.net/profile/5hRreDDy\">5hRreDDy</a>\n",
       "<small>(<a href=\"/profile/5hRreDDy/reviews\">All reviews</a>)</small><br/>\n",
       "<div class=\"lightLink spaceit\">\n",
       "<strong>\n",
       "<span id=\"rhelp3426\">36</span>\n",
       "</strong>\n",
       "              people found this review helpful\n",
       "            </div>\n",
       "</td>\n",
       "</tr>\n",
       "</table>\n",
       "</div>\n",
       "</div>\n",
       "<div class=\"spaceit textReadability word-break pt8 mt8\" style=\"clear: both; border-top: 1px solid #ebebeb;\">\n",
       "<div id=\"score3426\" style=\"float: left; display: none; margin: 0 10px 10px 0\">\n",
       "<table border=\"0\" cellpadding=\"0\" cellspacing=\"0\" class=\"borderClass\" style=\"border-width: 1px;\" width=\"105\">\n",
       "<tr>\n",
       "<td class=\"borderClass bgColor1\"><strong>Overall</strong></td>\n",
       "<td class=\"borderClass bgColor1\"><strong>7</strong></td>\n",
       "</tr>\n",
       "<tr>\n",
       "<td align=\"left\" class=\"borderClass\">Story</td>\n",
       "<td class=\"borderClass\">7</td>\n",
       "</tr>\n",
       "<tr>\n",
       "<td align=\"left\" class=\"borderClass\">Animation</td>\n",
       "<td class=\"borderClass\">8</td>\n",
       "</tr>\n",
       "<tr>\n",
       "<td align=\"left\" class=\"borderClass\">Sound</td>\n",
       "<td class=\"borderClass\">8</td>\n",
       "</tr>\n",
       "<tr>\n",
       "<td align=\"left\" class=\"borderClass\">Character</td>\n",
       "<td class=\"borderClass\">8</td>\n",
       "</tr>\n",
       "<tr>\n",
       "<td align=\"left\" class=\"borderClass\" style=\"border-width: 0;\">Enjoyment</td>\n",
       "<td class=\"borderClass\" style=\"border-width: 0;\">7</td>\n",
       "</tr>\n",
       "</table>\n",
       "</div>\n",
       "\n",
       "                          \n",
       "    Well, there's not really much to talk about since it's only a 6 min special. Basically it's a story of two mini Persocoms trying to return Chi's underwear :P<br/>\n",
       "<br/>\n",
       "It uses, as you would expect, the same kind of animations and sound effects from the series which is always nice. It just seems overall like an exaggerated bit of humour which could of been taken from the show and is overall pretty enjoyable.<br/>\n",
       "<br/>\n",
       "If you're a fan of the show it's simply one of those item's that can just help round off and add to the whole Chobits experience (and plus you get to see the cuteness\n",
       "\n",
       "          <span id=\"review3426\" style=\"display: none;\">\n",
       "        of Chi again, :D lol).\n",
       "        \n",
       "<div class=\"mt8 js-review-btn-helpful js-review-helpful-3426\" id=\"revhelp_output_3426\">\n",
       "<a class=\"button_form\" href=\"https://myanimelist.net/login.php?from=%2Fanime%2F596%2FChobits__Chibits%2Freviews%3Fp%3D0\">Helpful</a>\n",
       "</div>\n",
       "</span>\n",
       "<a class=\"js-toggle-review-button\" data-id=\"3426\" href=\"javascript:void(0);\" id=\"reviewToggle3426\">read more</a>\n",
       "</div>\n",
       "<div>\n",
       "<div class=\"mt12 pt4 pb4 pl0 pr0 clearfix\">\n",
       "<div style=\"float: right;\">\n",
       "<a class=\"lightLink\" href=\"https://myanimelist.net/reviews.php?id=3426\"><small>permalink</small></a> |\n",
       "                        <a class=\"lightLink\" href=\"https://myanimelist.net/dbchanges.php?go=reportreview&amp;id=3426\">\n",
       "<small>report</small>\n",
       "</a>\n",
       "</div>\n",
       "</div>\n",
       "</div>\n",
       "</div>"
      ]
     },
     "execution_count": 26,
     "metadata": {},
     "output_type": "execute_result"
    }
   ],
   "source": [
    "review"
   ]
  },
  {
   "cell_type": "code",
   "execution_count": 37,
   "metadata": {},
   "outputs": [
    {
     "data": {
      "text/plain": [
       "'5hRreDDy'"
      ]
     },
     "execution_count": 37,
     "metadata": {},
     "output_type": "execute_result"
    }
   ],
   "source": [
    "review.find_all('a')[2].text"
   ]
  },
  {
   "cell_type": "code",
   "execution_count": 48,
   "metadata": {
    "collapsed": true
   },
   "outputs": [],
   "source": [
    "fullreview = review.find('div', {'class':\"spaceit textReadability word-break pt8 mt8\"}).text"
   ]
  },
  {
   "cell_type": "code",
   "execution_count": 64,
   "metadata": {},
   "outputs": [
    {
     "data": {
      "text/plain": [
       "\"                              Well, there's not really much to talk about since it's only a 6 min special. Basically it's a story of two mini Persocoms trying to return Chi's underwear :PIt uses, as you would expect, the same kind of animations and sound effects from the series which is always nice. It just seems overall like an exaggerated bit of humour which could of been taken from the show and is overall pretty enjoyable.If you're a fan of the show it's simply one of those item's that can just help round off and add to the whole Chobits experience (and plus you get to see the cuteness                  of Chi again, :D lol).        \""
      ]
     },
     "execution_count": 64,
     "metadata": {},
     "output_type": "execute_result"
    }
   ],
   "source": [
    "cleanreview = fullreview.replace('\\n','').replace('\\r','')[50:-16]"
   ]
  },
  {
   "cell_type": "code",
   "execution_count": null,
   "metadata": {
    "collapsed": true
   },
   "outputs": [],
   "source": [
    "<div class=\"spaceit textReadability word-break pt8 mt8\" style=\"clear: both; border-top: 1px solid #ebebeb;\">\n",
    "        <div style=\"float: left; display: none; margin: 0 10px 10px 0\" id=\"score3426\">\n",
    "      <table border=\"0\" width=\"105\" cellpadding=\"0\" cellspacing=\"0\" class=\"borderClass\" style=\"border-width: 1px;\">\n",
    "        <tbody><tr>\n",
    "          <td class=\"borderClass bgColor1\"><strong>Overall</strong></td>\n",
    "          <td class=\"borderClass bgColor1\"><strong>7</strong></td>\n",
    "        </tr>\n",
    "        <tr>\n",
    "          <td class=\"borderClass\" align=\"left\">Story</td>\n",
    "          <td class=\"borderClass\">7</td>\n",
    "        </tr>\n",
    "                  <tr>\n",
    "            <td class=\"borderClass\" align=\"left\">Animation</td>\n",
    "            <td class=\"borderClass\">8</td>\n",
    "          </tr>\n",
    "          <tr>\n",
    "            <td class=\"borderClass\" align=\"left\">Sound</td>\n",
    "            <td class=\"borderClass\">8</td>\n",
    "          </tr>\n",
    "                <tr>\n",
    "          <td class=\"borderClass\" align=\"left\">Character</td>\n",
    "          <td class=\"borderClass\">8</td>\n",
    "        </tr>\n",
    "        <tr>\n",
    "          <td class=\"borderClass\" style=\"border-width: 0;\" align=\"left\">Enjoyment</td>\n",
    "          <td class=\"borderClass\" style=\"border-width: 0;\">7</td>\n",
    "        </tr>\n",
    "      </tbody></table>\n",
    "    </div>\n",
    "\n",
    "                          \n",
    "    Well, there's not really much to talk about since it's only a 6 min special. Basically it's a story of two mini Persocoms trying to return Chi's underwear :P<br>\n",
    "<br>\n",
    "It uses, as you would expect, the same kind of animations and sound effects from the series which is always nice. It just seems overall like an exaggerated bit of humour which could of been taken from the show and is overall pretty enjoyable.<br>\n",
    "<br>\n",
    "If you're a fan of the show it's simply one of those item's that can just help round off and add to the whole Chobits experience (and plus you get to see the cuteness\n",
    "\n",
    "          <span style=\"display: none;\" id=\"review3426\">\n",
    "        of Chi again, :D lol).\n",
    "        \n",
    "<div id=\"revhelp_output_3426\" class=\"mt8 js-review-btn-helpful js-review-helpful-3426\">\n",
    "      <a href=\"https://myanimelist.net/login.php?from=%2Fanime%2F596%2FChobits__Chibits%2Freviews\" class=\"button_form\">Helpful</a>\n",
    "  </div>\n",
    "      </span>\n",
    "      <a href=\"javascript:void(0);\" id=\"reviewToggle3426\" class=\"js-toggle-review-button\" data-id=\"3426\">read more</a>\n",
    "      </div>"
   ]
  }
 ],
 "metadata": {
  "kernelspec": {
   "display_name": "Python 3",
   "language": "python",
   "name": "python3"
  },
  "language_info": {
   "codemirror_mode": {
    "name": "ipython",
    "version": 3
   },
   "file_extension": ".py",
   "mimetype": "text/x-python",
   "name": "python",
   "nbconvert_exporter": "python",
   "pygments_lexer": "ipython3",
   "version": "3.6.1"
  }
 },
 "nbformat": 4,
 "nbformat_minor": 2
}
